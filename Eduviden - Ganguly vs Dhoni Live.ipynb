{
 "cells": [
  {
   "cell_type": "code",
   "execution_count": 33,
   "metadata": {},
   "outputs": [],
   "source": [
    "import pandas as pd # dataframes\n",
    "import numpy as np #"
   ]
  },
  {
   "cell_type": "code",
   "execution_count": 34,
   "metadata": {},
   "outputs": [],
   "source": [
    "import warnings\n",
    "warnings.simplefilter('ignore')"
   ]
  },
  {
   "cell_type": "code",
   "execution_count": 35,
   "metadata": {},
   "outputs": [],
   "source": [
    "pd.set_option('display.max_columns', None)"
   ]
  },
  {
   "cell_type": "code",
   "execution_count": 36,
   "metadata": {},
   "outputs": [],
   "source": [
    "df = pd.read_csv(r'ODI_data.csv')"
   ]
  },
  {
   "cell_type": "code",
   "execution_count": 37,
   "metadata": {},
   "outputs": [
    {
     "data": {
      "text/html": [
       "<div>\n",
       "<style scoped>\n",
       "    .dataframe tbody tr th:only-of-type {\n",
       "        vertical-align: middle;\n",
       "    }\n",
       "\n",
       "    .dataframe tbody tr th {\n",
       "        vertical-align: top;\n",
       "    }\n",
       "\n",
       "    .dataframe thead th {\n",
       "        text-align: right;\n",
       "    }\n",
       "</style>\n",
       "<table border=\"1\" class=\"dataframe\">\n",
       "  <thead>\n",
       "    <tr style=\"text-align: right;\">\n",
       "      <th></th>\n",
       "      <th>Innings Player</th>\n",
       "      <th>Innings Runs Scored</th>\n",
       "      <th>Innings Runs Scored Num</th>\n",
       "      <th>Innings Minutes Batted</th>\n",
       "      <th>Innings Batted Flag</th>\n",
       "      <th>Innings Not Out Flag</th>\n",
       "      <th>Innings Balls Faced</th>\n",
       "      <th>Innings Boundary Fours</th>\n",
       "      <th>Innings Boundary Sixes</th>\n",
       "      <th>Innings Batting Strike Rate</th>\n",
       "      <th>Innings Number</th>\n",
       "      <th>Opposition</th>\n",
       "      <th>Ground</th>\n",
       "      <th>Innings Date</th>\n",
       "      <th>Country</th>\n",
       "      <th>50's</th>\n",
       "      <th>100's</th>\n",
       "      <th>Innings Runs Scored Buckets</th>\n",
       "      <th>Innings Overs Bowled</th>\n",
       "      <th>Innings Bowled Flag</th>\n",
       "      <th>Innings Maidens Bowled</th>\n",
       "      <th>Innings Runs Conceded</th>\n",
       "      <th>Innings Wickets Taken</th>\n",
       "      <th>4 Wickets</th>\n",
       "      <th>5 Wickets</th>\n",
       "      <th>10 Wickets</th>\n",
       "      <th>Innings Wickets Taken Buckets</th>\n",
       "      <th>Innings Economy Rate</th>\n",
       "    </tr>\n",
       "  </thead>\n",
       "  <tbody>\n",
       "    <tr>\n",
       "      <th>0</th>\n",
       "      <td>E Lewis</td>\n",
       "      <td>65</td>\n",
       "      <td>65</td>\n",
       "      <td>128</td>\n",
       "      <td>1.0</td>\n",
       "      <td>0.0</td>\n",
       "      <td>80</td>\n",
       "      <td>8</td>\n",
       "      <td>1</td>\n",
       "      <td>81.25</td>\n",
       "      <td>2</td>\n",
       "      <td>v India</td>\n",
       "      <td>Port of Spain</td>\n",
       "      <td>11-08-2019</td>\n",
       "      <td>West Indies</td>\n",
       "      <td>1.0</td>\n",
       "      <td>0.0</td>\n",
       "      <td>50-99</td>\n",
       "      <td>NaN</td>\n",
       "      <td>NaN</td>\n",
       "      <td>NaN</td>\n",
       "      <td>NaN</td>\n",
       "      <td>NaN</td>\n",
       "      <td>NaN</td>\n",
       "      <td>NaN</td>\n",
       "      <td>NaN</td>\n",
       "      <td>NaN</td>\n",
       "      <td>NaN</td>\n",
       "    </tr>\n",
       "    <tr>\n",
       "      <th>1</th>\n",
       "      <td>N Pooran</td>\n",
       "      <td>42</td>\n",
       "      <td>42</td>\n",
       "      <td>69</td>\n",
       "      <td>1.0</td>\n",
       "      <td>0.0</td>\n",
       "      <td>52</td>\n",
       "      <td>4</td>\n",
       "      <td>1</td>\n",
       "      <td>80.76</td>\n",
       "      <td>2</td>\n",
       "      <td>v India</td>\n",
       "      <td>Port of Spain</td>\n",
       "      <td>11-08-2019</td>\n",
       "      <td>West Indies</td>\n",
       "      <td>0.0</td>\n",
       "      <td>0.0</td>\n",
       "      <td>0-49</td>\n",
       "      <td>NaN</td>\n",
       "      <td>NaN</td>\n",
       "      <td>NaN</td>\n",
       "      <td>NaN</td>\n",
       "      <td>NaN</td>\n",
       "      <td>NaN</td>\n",
       "      <td>NaN</td>\n",
       "      <td>NaN</td>\n",
       "      <td>NaN</td>\n",
       "      <td>NaN</td>\n",
       "    </tr>\n",
       "    <tr>\n",
       "      <th>2</th>\n",
       "      <td>SO Hetmyer</td>\n",
       "      <td>18</td>\n",
       "      <td>18</td>\n",
       "      <td>31</td>\n",
       "      <td>1.0</td>\n",
       "      <td>0.0</td>\n",
       "      <td>20</td>\n",
       "      <td>2</td>\n",
       "      <td>0</td>\n",
       "      <td>90</td>\n",
       "      <td>2</td>\n",
       "      <td>v India</td>\n",
       "      <td>Port of Spain</td>\n",
       "      <td>11-08-2019</td>\n",
       "      <td>West Indies</td>\n",
       "      <td>0.0</td>\n",
       "      <td>0.0</td>\n",
       "      <td>0-49</td>\n",
       "      <td>NaN</td>\n",
       "      <td>NaN</td>\n",
       "      <td>NaN</td>\n",
       "      <td>NaN</td>\n",
       "      <td>NaN</td>\n",
       "      <td>NaN</td>\n",
       "      <td>NaN</td>\n",
       "      <td>NaN</td>\n",
       "      <td>NaN</td>\n",
       "      <td>NaN</td>\n",
       "    </tr>\n",
       "    <tr>\n",
       "      <th>3</th>\n",
       "      <td>RL Chase</td>\n",
       "      <td>18</td>\n",
       "      <td>18</td>\n",
       "      <td>34</td>\n",
       "      <td>1.0</td>\n",
       "      <td>0.0</td>\n",
       "      <td>23</td>\n",
       "      <td>0</td>\n",
       "      <td>0</td>\n",
       "      <td>78.26</td>\n",
       "      <td>2</td>\n",
       "      <td>v India</td>\n",
       "      <td>Port of Spain</td>\n",
       "      <td>11-08-2019</td>\n",
       "      <td>West Indies</td>\n",
       "      <td>0.0</td>\n",
       "      <td>0.0</td>\n",
       "      <td>0-49</td>\n",
       "      <td>NaN</td>\n",
       "      <td>NaN</td>\n",
       "      <td>NaN</td>\n",
       "      <td>NaN</td>\n",
       "      <td>NaN</td>\n",
       "      <td>NaN</td>\n",
       "      <td>NaN</td>\n",
       "      <td>NaN</td>\n",
       "      <td>NaN</td>\n",
       "      <td>NaN</td>\n",
       "    </tr>\n",
       "    <tr>\n",
       "      <th>4</th>\n",
       "      <td>SS Cottrell</td>\n",
       "      <td>17</td>\n",
       "      <td>17</td>\n",
       "      <td>23</td>\n",
       "      <td>1.0</td>\n",
       "      <td>0.0</td>\n",
       "      <td>18</td>\n",
       "      <td>2</td>\n",
       "      <td>1</td>\n",
       "      <td>94.44</td>\n",
       "      <td>2</td>\n",
       "      <td>v India</td>\n",
       "      <td>Port of Spain</td>\n",
       "      <td>11-08-2019</td>\n",
       "      <td>West Indies</td>\n",
       "      <td>0.0</td>\n",
       "      <td>0.0</td>\n",
       "      <td>0-49</td>\n",
       "      <td>NaN</td>\n",
       "      <td>NaN</td>\n",
       "      <td>NaN</td>\n",
       "      <td>NaN</td>\n",
       "      <td>NaN</td>\n",
       "      <td>NaN</td>\n",
       "      <td>NaN</td>\n",
       "      <td>NaN</td>\n",
       "      <td>NaN</td>\n",
       "      <td>NaN</td>\n",
       "    </tr>\n",
       "    <tr>\n",
       "      <th>5</th>\n",
       "      <td>JO Holder</td>\n",
       "      <td>13*</td>\n",
       "      <td>13</td>\n",
       "      <td>38</td>\n",
       "      <td>1.0</td>\n",
       "      <td>1.0</td>\n",
       "      <td>19</td>\n",
       "      <td>0</td>\n",
       "      <td>0</td>\n",
       "      <td>68.42</td>\n",
       "      <td>2</td>\n",
       "      <td>v India</td>\n",
       "      <td>Port of Spain</td>\n",
       "      <td>11-08-2019</td>\n",
       "      <td>West Indies</td>\n",
       "      <td>0.0</td>\n",
       "      <td>0.0</td>\n",
       "      <td>0-49</td>\n",
       "      <td>NaN</td>\n",
       "      <td>NaN</td>\n",
       "      <td>NaN</td>\n",
       "      <td>NaN</td>\n",
       "      <td>NaN</td>\n",
       "      <td>NaN</td>\n",
       "      <td>NaN</td>\n",
       "      <td>NaN</td>\n",
       "      <td>NaN</td>\n",
       "      <td>NaN</td>\n",
       "    </tr>\n",
       "    <tr>\n",
       "      <th>6</th>\n",
       "      <td>CH Gayle</td>\n",
       "      <td>11</td>\n",
       "      <td>11</td>\n",
       "      <td>49</td>\n",
       "      <td>1.0</td>\n",
       "      <td>0.0</td>\n",
       "      <td>24</td>\n",
       "      <td>1</td>\n",
       "      <td>0</td>\n",
       "      <td>45.83</td>\n",
       "      <td>2</td>\n",
       "      <td>v India</td>\n",
       "      <td>Port of Spain</td>\n",
       "      <td>11-08-2019</td>\n",
       "      <td>West Indies</td>\n",
       "      <td>0.0</td>\n",
       "      <td>0.0</td>\n",
       "      <td>0-49</td>\n",
       "      <td>NaN</td>\n",
       "      <td>NaN</td>\n",
       "      <td>NaN</td>\n",
       "      <td>NaN</td>\n",
       "      <td>NaN</td>\n",
       "      <td>NaN</td>\n",
       "      <td>NaN</td>\n",
       "      <td>NaN</td>\n",
       "      <td>NaN</td>\n",
       "      <td>NaN</td>\n",
       "    </tr>\n",
       "    <tr>\n",
       "      <th>7</th>\n",
       "      <td>SD Hope</td>\n",
       "      <td>5</td>\n",
       "      <td>5</td>\n",
       "      <td>14</td>\n",
       "      <td>1.0</td>\n",
       "      <td>0.0</td>\n",
       "      <td>10</td>\n",
       "      <td>0</td>\n",
       "      <td>0</td>\n",
       "      <td>50</td>\n",
       "      <td>2</td>\n",
       "      <td>v India</td>\n",
       "      <td>Port of Spain</td>\n",
       "      <td>11-08-2019</td>\n",
       "      <td>West Indies</td>\n",
       "      <td>0.0</td>\n",
       "      <td>0.0</td>\n",
       "      <td>0-49</td>\n",
       "      <td>NaN</td>\n",
       "      <td>NaN</td>\n",
       "      <td>NaN</td>\n",
       "      <td>NaN</td>\n",
       "      <td>NaN</td>\n",
       "      <td>NaN</td>\n",
       "      <td>NaN</td>\n",
       "      <td>NaN</td>\n",
       "      <td>NaN</td>\n",
       "      <td>NaN</td>\n",
       "    </tr>\n",
       "    <tr>\n",
       "      <th>8</th>\n",
       "      <td>CR Brathwaite</td>\n",
       "      <td>0</td>\n",
       "      <td>0</td>\n",
       "      <td>5</td>\n",
       "      <td>1.0</td>\n",
       "      <td>0.0</td>\n",
       "      <td>3</td>\n",
       "      <td>0</td>\n",
       "      <td>0</td>\n",
       "      <td>0</td>\n",
       "      <td>2</td>\n",
       "      <td>v India</td>\n",
       "      <td>Port of Spain</td>\n",
       "      <td>11-08-2019</td>\n",
       "      <td>West Indies</td>\n",
       "      <td>0.0</td>\n",
       "      <td>0.0</td>\n",
       "      <td>0-49</td>\n",
       "      <td>NaN</td>\n",
       "      <td>NaN</td>\n",
       "      <td>NaN</td>\n",
       "      <td>NaN</td>\n",
       "      <td>NaN</td>\n",
       "      <td>NaN</td>\n",
       "      <td>NaN</td>\n",
       "      <td>NaN</td>\n",
       "      <td>NaN</td>\n",
       "      <td>NaN</td>\n",
       "    </tr>\n",
       "    <tr>\n",
       "      <th>9</th>\n",
       "      <td>KAJ Roach</td>\n",
       "      <td>0</td>\n",
       "      <td>0</td>\n",
       "      <td>5</td>\n",
       "      <td>1.0</td>\n",
       "      <td>0.0</td>\n",
       "      <td>3</td>\n",
       "      <td>0</td>\n",
       "      <td>0</td>\n",
       "      <td>0</td>\n",
       "      <td>2</td>\n",
       "      <td>v India</td>\n",
       "      <td>Port of Spain</td>\n",
       "      <td>11-08-2019</td>\n",
       "      <td>West Indies</td>\n",
       "      <td>0.0</td>\n",
       "      <td>0.0</td>\n",
       "      <td>0-49</td>\n",
       "      <td>NaN</td>\n",
       "      <td>NaN</td>\n",
       "      <td>NaN</td>\n",
       "      <td>NaN</td>\n",
       "      <td>NaN</td>\n",
       "      <td>NaN</td>\n",
       "      <td>NaN</td>\n",
       "      <td>NaN</td>\n",
       "      <td>NaN</td>\n",
       "      <td>NaN</td>\n",
       "    </tr>\n",
       "  </tbody>\n",
       "</table>\n",
       "</div>"
      ],
      "text/plain": [
       "  Innings Player Innings Runs Scored Innings Runs Scored Num  \\\n",
       "0        E Lewis                  65                      65   \n",
       "1       N Pooran                  42                      42   \n",
       "2     SO Hetmyer                  18                      18   \n",
       "3       RL Chase                  18                      18   \n",
       "4    SS Cottrell                  17                      17   \n",
       "5      JO Holder                 13*                      13   \n",
       "6       CH Gayle                  11                      11   \n",
       "7        SD Hope                   5                       5   \n",
       "8  CR Brathwaite                   0                       0   \n",
       "9      KAJ Roach                   0                       0   \n",
       "\n",
       "  Innings Minutes Batted  Innings Batted Flag  Innings Not Out Flag  \\\n",
       "0                    128                  1.0                   0.0   \n",
       "1                     69                  1.0                   0.0   \n",
       "2                     31                  1.0                   0.0   \n",
       "3                     34                  1.0                   0.0   \n",
       "4                     23                  1.0                   0.0   \n",
       "5                     38                  1.0                   1.0   \n",
       "6                     49                  1.0                   0.0   \n",
       "7                     14                  1.0                   0.0   \n",
       "8                      5                  1.0                   0.0   \n",
       "9                      5                  1.0                   0.0   \n",
       "\n",
       "  Innings Balls Faced Innings Boundary Fours Innings Boundary Sixes  \\\n",
       "0                  80                      8                      1   \n",
       "1                  52                      4                      1   \n",
       "2                  20                      2                      0   \n",
       "3                  23                      0                      0   \n",
       "4                  18                      2                      1   \n",
       "5                  19                      0                      0   \n",
       "6                  24                      1                      0   \n",
       "7                  10                      0                      0   \n",
       "8                   3                      0                      0   \n",
       "9                   3                      0                      0   \n",
       "\n",
       "  Innings Batting Strike Rate Innings Number Opposition         Ground  \\\n",
       "0                       81.25              2    v India  Port of Spain   \n",
       "1                       80.76              2    v India  Port of Spain   \n",
       "2                          90              2    v India  Port of Spain   \n",
       "3                       78.26              2    v India  Port of Spain   \n",
       "4                       94.44              2    v India  Port of Spain   \n",
       "5                       68.42              2    v India  Port of Spain   \n",
       "6                       45.83              2    v India  Port of Spain   \n",
       "7                          50              2    v India  Port of Spain   \n",
       "8                           0              2    v India  Port of Spain   \n",
       "9                           0              2    v India  Port of Spain   \n",
       "\n",
       "  Innings Date      Country  50's  100's Innings Runs Scored Buckets  \\\n",
       "0   11-08-2019  West Indies   1.0    0.0                       50-99   \n",
       "1   11-08-2019  West Indies   0.0    0.0                        0-49   \n",
       "2   11-08-2019  West Indies   0.0    0.0                        0-49   \n",
       "3   11-08-2019  West Indies   0.0    0.0                        0-49   \n",
       "4   11-08-2019  West Indies   0.0    0.0                        0-49   \n",
       "5   11-08-2019  West Indies   0.0    0.0                        0-49   \n",
       "6   11-08-2019  West Indies   0.0    0.0                        0-49   \n",
       "7   11-08-2019  West Indies   0.0    0.0                        0-49   \n",
       "8   11-08-2019  West Indies   0.0    0.0                        0-49   \n",
       "9   11-08-2019  West Indies   0.0    0.0                        0-49   \n",
       "\n",
       "  Innings Overs Bowled  Innings Bowled Flag Innings Maidens Bowled  \\\n",
       "0                  NaN                  NaN                    NaN   \n",
       "1                  NaN                  NaN                    NaN   \n",
       "2                  NaN                  NaN                    NaN   \n",
       "3                  NaN                  NaN                    NaN   \n",
       "4                  NaN                  NaN                    NaN   \n",
       "5                  NaN                  NaN                    NaN   \n",
       "6                  NaN                  NaN                    NaN   \n",
       "7                  NaN                  NaN                    NaN   \n",
       "8                  NaN                  NaN                    NaN   \n",
       "9                  NaN                  NaN                    NaN   \n",
       "\n",
       "  Innings Runs Conceded Innings Wickets Taken  4 Wickets  5 Wickets  \\\n",
       "0                   NaN                   NaN        NaN        NaN   \n",
       "1                   NaN                   NaN        NaN        NaN   \n",
       "2                   NaN                   NaN        NaN        NaN   \n",
       "3                   NaN                   NaN        NaN        NaN   \n",
       "4                   NaN                   NaN        NaN        NaN   \n",
       "5                   NaN                   NaN        NaN        NaN   \n",
       "6                   NaN                   NaN        NaN        NaN   \n",
       "7                   NaN                   NaN        NaN        NaN   \n",
       "8                   NaN                   NaN        NaN        NaN   \n",
       "9                   NaN                   NaN        NaN        NaN   \n",
       "\n",
       "   10 Wickets Innings Wickets Taken Buckets Innings Economy Rate  \n",
       "0         NaN                           NaN                  NaN  \n",
       "1         NaN                           NaN                  NaN  \n",
       "2         NaN                           NaN                  NaN  \n",
       "3         NaN                           NaN                  NaN  \n",
       "4         NaN                           NaN                  NaN  \n",
       "5         NaN                           NaN                  NaN  \n",
       "6         NaN                           NaN                  NaN  \n",
       "7         NaN                           NaN                  NaN  \n",
       "8         NaN                           NaN                  NaN  \n",
       "9         NaN                           NaN                  NaN  "
      ]
     },
     "execution_count": 37,
     "metadata": {},
     "output_type": "execute_result"
    }
   ],
   "source": [
    "df.head(10)"
   ]
  },
  {
   "cell_type": "code",
   "execution_count": 38,
   "metadata": {},
   "outputs": [
    {
     "data": {
      "text/plain": [
       "(171968, 28)"
      ]
     },
     "execution_count": 38,
     "metadata": {},
     "output_type": "execute_result"
    }
   ],
   "source": [
    "df.shape"
   ]
  },
  {
   "cell_type": "code",
   "execution_count": 39,
   "metadata": {},
   "outputs": [
    {
     "data": {
      "text/plain": [
       "array(['65', '42', '18', '17', '13', '11', '5', '0', '120', '71', '20',\n",
       "       '16', '3', '2', '1', '-', nan, '40', '6', '4', '87', '54', '46',\n",
       "       '30', '12', '69', '39', '14', '10', '9', '8', '7', '82', '52',\n",
       "       '41', '15', '98', '43', '19', '111', '48', '36', '25', '67', '60',\n",
       "       '84', '59', '55', '47', '85', '49', '45', '34', '29', '22', '74',\n",
       "       '28', '77', '50', '32', '23', '35', '122', '100', '95', '103',\n",
       "       '113', '53', '96', '27', '64', '58', '33', '31', '73', '56', '86',\n",
       "       '62', '106', '24', '57', '104', '26', '66', '51', '118', '105',\n",
       "       '101', '21', '79', '44', '102', '88', '80', '72', '97', '68', '89',\n",
       "       '38', '83', '63', '148', '166', '90', '76', '37', '70', '124',\n",
       "       '94', '140', '153', '107', '117', '121', '92', '78', '75', '114',\n",
       "       '115', '130', '128', '151', '110', '138', '135', '109', '61',\n",
       "       '179', '170', '112', '116', '91', '143', '93', '123', '145', '81',\n",
       "       '150', '162', '108', '131', '133', '137', '146', '139', '125',\n",
       "       '129', '157', '152', '144', '99', '127', '210', '147', '126',\n",
       "       '181', '160', '180', '208', '176', '168', '141', '132', '119',\n",
       "       '154', '185', '134', '156', '164', '173', '178', '171', '149',\n",
       "       '237', '159', '161', '215', '264', '136', '169', '209', '174',\n",
       "       '189', '183', '163', '219', '158', '175', '177', '200', '194',\n",
       "       '142', '172', '186', '188', '167'], dtype=object)"
      ]
     },
     "execution_count": 39,
     "metadata": {},
     "output_type": "execute_result"
    }
   ],
   "source": [
    "df['Innings Runs Scored Num'].unique()"
   ]
  },
  {
   "cell_type": "code",
   "execution_count": 40,
   "metadata": {},
   "outputs": [],
   "source": [
    "df = df[df['Innings Runs Scored Num'] != '-']"
   ]
  },
  {
   "cell_type": "code",
   "execution_count": 41,
   "metadata": {},
   "outputs": [
    {
     "data": {
      "text/plain": [
       "array(['65', '42', '18', '17', '13', '11', '5', '0', '120', '71', '20',\n",
       "       '16', '3', '2', '1', nan, '40', '6', '4', '87', '54', '46', '30',\n",
       "       '12', '69', '39', '14', '10', '9', '8', '7', '82', '52', '41',\n",
       "       '15', '98', '43', '19', '111', '48', '36', '25', '67', '60', '84',\n",
       "       '59', '55', '47', '85', '49', '45', '34', '29', '22', '74', '28',\n",
       "       '77', '50', '32', '23', '35', '122', '100', '95', '103', '113',\n",
       "       '53', '96', '27', '64', '58', '33', '31', '73', '56', '86', '62',\n",
       "       '106', '24', '57', '104', '26', '66', '51', '118', '105', '101',\n",
       "       '21', '79', '44', '102', '88', '80', '72', '97', '68', '89', '38',\n",
       "       '83', '63', '148', '166', '90', '76', '37', '70', '124', '94',\n",
       "       '140', '153', '107', '117', '121', '92', '78', '75', '114', '115',\n",
       "       '130', '128', '151', '110', '138', '135', '109', '61', '179',\n",
       "       '170', '112', '116', '91', '143', '93', '123', '145', '81', '150',\n",
       "       '162', '108', '131', '133', '137', '146', '139', '125', '129',\n",
       "       '157', '152', '144', '99', '127', '210', '147', '126', '181',\n",
       "       '160', '180', '208', '176', '168', '141', '132', '119', '154',\n",
       "       '185', '134', '156', '164', '173', '178', '171', '149', '237',\n",
       "       '159', '161', '215', '264', '136', '169', '209', '174', '189',\n",
       "       '183', '163', '219', '158', '175', '177', '200', '194', '142',\n",
       "       '172', '186', '188', '167'], dtype=object)"
      ]
     },
     "execution_count": 41,
     "metadata": {},
     "output_type": "execute_result"
    }
   ],
   "source": [
    "df['Innings Runs Scored Num'].unique()"
   ]
  },
  {
   "cell_type": "code",
   "execution_count": 42,
   "metadata": {},
   "outputs": [],
   "source": [
    "df = df.dropna(subset = ['Innings Runs Scored Num'])"
   ]
  },
  {
   "cell_type": "code",
   "execution_count": 43,
   "metadata": {},
   "outputs": [
    {
     "data": {
      "text/plain": [
       "array(['65', '42', '18', '17', '13', '11', '5', '0', '120', '71', '20',\n",
       "       '16', '3', '2', '1', '40', '6', '4', '87', '54', '46', '30', '12',\n",
       "       '69', '39', '14', '10', '9', '8', '7', '82', '52', '41', '15',\n",
       "       '98', '43', '19', '111', '48', '36', '25', '67', '60', '84', '59',\n",
       "       '55', '47', '85', '49', '45', '34', '29', '22', '74', '28', '77',\n",
       "       '50', '32', '23', '35', '122', '100', '95', '103', '113', '53',\n",
       "       '96', '27', '64', '58', '33', '31', '73', '56', '86', '62', '106',\n",
       "       '24', '57', '104', '26', '66', '51', '118', '105', '101', '21',\n",
       "       '79', '44', '102', '88', '80', '72', '97', '68', '89', '38', '83',\n",
       "       '63', '148', '166', '90', '76', '37', '70', '124', '94', '140',\n",
       "       '153', '107', '117', '121', '92', '78', '75', '114', '115', '130',\n",
       "       '128', '151', '110', '138', '135', '109', '61', '179', '170',\n",
       "       '112', '116', '91', '143', '93', '123', '145', '81', '150', '162',\n",
       "       '108', '131', '133', '137', '146', '139', '125', '129', '157',\n",
       "       '152', '144', '99', '127', '210', '147', '126', '181', '160',\n",
       "       '180', '208', '176', '168', '141', '132', '119', '154', '185',\n",
       "       '134', '156', '164', '173', '178', '171', '149', '237', '159',\n",
       "       '161', '215', '264', '136', '169', '209', '174', '189', '183',\n",
       "       '163', '219', '158', '175', '177', '200', '194', '142', '172',\n",
       "       '186', '188', '167'], dtype=object)"
      ]
     },
     "execution_count": 43,
     "metadata": {},
     "output_type": "execute_result"
    }
   ],
   "source": [
    "df['Innings Runs Scored Num'].unique()"
   ]
  },
  {
   "cell_type": "code",
   "execution_count": 44,
   "metadata": {},
   "outputs": [
    {
     "data": {
      "text/plain": [
       "dtype('O')"
      ]
     },
     "execution_count": 44,
     "metadata": {},
     "output_type": "execute_result"
    }
   ],
   "source": [
    "df['Innings Date'].dtypes"
   ]
  },
  {
   "cell_type": "code",
   "execution_count": 45,
   "metadata": {},
   "outputs": [],
   "source": [
    "df['Innings Date'] = pd.to_datetime(df['Innings Date'])"
   ]
  },
  {
   "cell_type": "code",
   "execution_count": 46,
   "metadata": {},
   "outputs": [
    {
     "data": {
      "text/plain": [
       "dtype('<M8[ns]')"
      ]
     },
     "execution_count": 46,
     "metadata": {},
     "output_type": "execute_result"
    }
   ],
   "source": [
    "df['Innings Date'].dtypes"
   ]
  },
  {
   "cell_type": "code",
   "execution_count": 47,
   "metadata": {},
   "outputs": [],
   "source": [
    "df['year'] = df['Innings Date'].dt.year"
   ]
  },
  {
   "cell_type": "code",
   "execution_count": 48,
   "metadata": {},
   "outputs": [
    {
     "data": {
      "text/html": [
       "<div>\n",
       "<style scoped>\n",
       "    .dataframe tbody tr th:only-of-type {\n",
       "        vertical-align: middle;\n",
       "    }\n",
       "\n",
       "    .dataframe tbody tr th {\n",
       "        vertical-align: top;\n",
       "    }\n",
       "\n",
       "    .dataframe thead th {\n",
       "        text-align: right;\n",
       "    }\n",
       "</style>\n",
       "<table border=\"1\" class=\"dataframe\">\n",
       "  <thead>\n",
       "    <tr style=\"text-align: right;\">\n",
       "      <th></th>\n",
       "      <th>Innings Player</th>\n",
       "      <th>Innings Runs Scored</th>\n",
       "      <th>Innings Runs Scored Num</th>\n",
       "      <th>Innings Minutes Batted</th>\n",
       "      <th>Innings Batted Flag</th>\n",
       "      <th>Innings Not Out Flag</th>\n",
       "      <th>Innings Balls Faced</th>\n",
       "      <th>Innings Boundary Fours</th>\n",
       "      <th>Innings Boundary Sixes</th>\n",
       "      <th>Innings Batting Strike Rate</th>\n",
       "      <th>Innings Number</th>\n",
       "      <th>Opposition</th>\n",
       "      <th>Ground</th>\n",
       "      <th>Innings Date</th>\n",
       "      <th>Country</th>\n",
       "      <th>50's</th>\n",
       "      <th>100's</th>\n",
       "      <th>Innings Runs Scored Buckets</th>\n",
       "      <th>Innings Overs Bowled</th>\n",
       "      <th>Innings Bowled Flag</th>\n",
       "      <th>Innings Maidens Bowled</th>\n",
       "      <th>Innings Runs Conceded</th>\n",
       "      <th>Innings Wickets Taken</th>\n",
       "      <th>4 Wickets</th>\n",
       "      <th>5 Wickets</th>\n",
       "      <th>10 Wickets</th>\n",
       "      <th>Innings Wickets Taken Buckets</th>\n",
       "      <th>Innings Economy Rate</th>\n",
       "      <th>year</th>\n",
       "    </tr>\n",
       "  </thead>\n",
       "  <tbody>\n",
       "    <tr>\n",
       "      <th>0</th>\n",
       "      <td>E Lewis</td>\n",
       "      <td>65</td>\n",
       "      <td>65</td>\n",
       "      <td>128</td>\n",
       "      <td>1.0</td>\n",
       "      <td>0.0</td>\n",
       "      <td>80</td>\n",
       "      <td>8</td>\n",
       "      <td>1</td>\n",
       "      <td>81.25</td>\n",
       "      <td>2</td>\n",
       "      <td>v India</td>\n",
       "      <td>Port of Spain</td>\n",
       "      <td>2019-11-08</td>\n",
       "      <td>West Indies</td>\n",
       "      <td>1.0</td>\n",
       "      <td>0.0</td>\n",
       "      <td>50-99</td>\n",
       "      <td>NaN</td>\n",
       "      <td>NaN</td>\n",
       "      <td>NaN</td>\n",
       "      <td>NaN</td>\n",
       "      <td>NaN</td>\n",
       "      <td>NaN</td>\n",
       "      <td>NaN</td>\n",
       "      <td>NaN</td>\n",
       "      <td>NaN</td>\n",
       "      <td>NaN</td>\n",
       "      <td>2019</td>\n",
       "    </tr>\n",
       "    <tr>\n",
       "      <th>1</th>\n",
       "      <td>N Pooran</td>\n",
       "      <td>42</td>\n",
       "      <td>42</td>\n",
       "      <td>69</td>\n",
       "      <td>1.0</td>\n",
       "      <td>0.0</td>\n",
       "      <td>52</td>\n",
       "      <td>4</td>\n",
       "      <td>1</td>\n",
       "      <td>80.76</td>\n",
       "      <td>2</td>\n",
       "      <td>v India</td>\n",
       "      <td>Port of Spain</td>\n",
       "      <td>2019-11-08</td>\n",
       "      <td>West Indies</td>\n",
       "      <td>0.0</td>\n",
       "      <td>0.0</td>\n",
       "      <td>0-49</td>\n",
       "      <td>NaN</td>\n",
       "      <td>NaN</td>\n",
       "      <td>NaN</td>\n",
       "      <td>NaN</td>\n",
       "      <td>NaN</td>\n",
       "      <td>NaN</td>\n",
       "      <td>NaN</td>\n",
       "      <td>NaN</td>\n",
       "      <td>NaN</td>\n",
       "      <td>NaN</td>\n",
       "      <td>2019</td>\n",
       "    </tr>\n",
       "    <tr>\n",
       "      <th>2</th>\n",
       "      <td>SO Hetmyer</td>\n",
       "      <td>18</td>\n",
       "      <td>18</td>\n",
       "      <td>31</td>\n",
       "      <td>1.0</td>\n",
       "      <td>0.0</td>\n",
       "      <td>20</td>\n",
       "      <td>2</td>\n",
       "      <td>0</td>\n",
       "      <td>90</td>\n",
       "      <td>2</td>\n",
       "      <td>v India</td>\n",
       "      <td>Port of Spain</td>\n",
       "      <td>2019-11-08</td>\n",
       "      <td>West Indies</td>\n",
       "      <td>0.0</td>\n",
       "      <td>0.0</td>\n",
       "      <td>0-49</td>\n",
       "      <td>NaN</td>\n",
       "      <td>NaN</td>\n",
       "      <td>NaN</td>\n",
       "      <td>NaN</td>\n",
       "      <td>NaN</td>\n",
       "      <td>NaN</td>\n",
       "      <td>NaN</td>\n",
       "      <td>NaN</td>\n",
       "      <td>NaN</td>\n",
       "      <td>NaN</td>\n",
       "      <td>2019</td>\n",
       "    </tr>\n",
       "    <tr>\n",
       "      <th>3</th>\n",
       "      <td>RL Chase</td>\n",
       "      <td>18</td>\n",
       "      <td>18</td>\n",
       "      <td>34</td>\n",
       "      <td>1.0</td>\n",
       "      <td>0.0</td>\n",
       "      <td>23</td>\n",
       "      <td>0</td>\n",
       "      <td>0</td>\n",
       "      <td>78.26</td>\n",
       "      <td>2</td>\n",
       "      <td>v India</td>\n",
       "      <td>Port of Spain</td>\n",
       "      <td>2019-11-08</td>\n",
       "      <td>West Indies</td>\n",
       "      <td>0.0</td>\n",
       "      <td>0.0</td>\n",
       "      <td>0-49</td>\n",
       "      <td>NaN</td>\n",
       "      <td>NaN</td>\n",
       "      <td>NaN</td>\n",
       "      <td>NaN</td>\n",
       "      <td>NaN</td>\n",
       "      <td>NaN</td>\n",
       "      <td>NaN</td>\n",
       "      <td>NaN</td>\n",
       "      <td>NaN</td>\n",
       "      <td>NaN</td>\n",
       "      <td>2019</td>\n",
       "    </tr>\n",
       "    <tr>\n",
       "      <th>4</th>\n",
       "      <td>SS Cottrell</td>\n",
       "      <td>17</td>\n",
       "      <td>17</td>\n",
       "      <td>23</td>\n",
       "      <td>1.0</td>\n",
       "      <td>0.0</td>\n",
       "      <td>18</td>\n",
       "      <td>2</td>\n",
       "      <td>1</td>\n",
       "      <td>94.44</td>\n",
       "      <td>2</td>\n",
       "      <td>v India</td>\n",
       "      <td>Port of Spain</td>\n",
       "      <td>2019-11-08</td>\n",
       "      <td>West Indies</td>\n",
       "      <td>0.0</td>\n",
       "      <td>0.0</td>\n",
       "      <td>0-49</td>\n",
       "      <td>NaN</td>\n",
       "      <td>NaN</td>\n",
       "      <td>NaN</td>\n",
       "      <td>NaN</td>\n",
       "      <td>NaN</td>\n",
       "      <td>NaN</td>\n",
       "      <td>NaN</td>\n",
       "      <td>NaN</td>\n",
       "      <td>NaN</td>\n",
       "      <td>NaN</td>\n",
       "      <td>2019</td>\n",
       "    </tr>\n",
       "  </tbody>\n",
       "</table>\n",
       "</div>"
      ],
      "text/plain": [
       "  Innings Player Innings Runs Scored Innings Runs Scored Num  \\\n",
       "0        E Lewis                  65                      65   \n",
       "1       N Pooran                  42                      42   \n",
       "2     SO Hetmyer                  18                      18   \n",
       "3       RL Chase                  18                      18   \n",
       "4    SS Cottrell                  17                      17   \n",
       "\n",
       "  Innings Minutes Batted  Innings Batted Flag  Innings Not Out Flag  \\\n",
       "0                    128                  1.0                   0.0   \n",
       "1                     69                  1.0                   0.0   \n",
       "2                     31                  1.0                   0.0   \n",
       "3                     34                  1.0                   0.0   \n",
       "4                     23                  1.0                   0.0   \n",
       "\n",
       "  Innings Balls Faced Innings Boundary Fours Innings Boundary Sixes  \\\n",
       "0                  80                      8                      1   \n",
       "1                  52                      4                      1   \n",
       "2                  20                      2                      0   \n",
       "3                  23                      0                      0   \n",
       "4                  18                      2                      1   \n",
       "\n",
       "  Innings Batting Strike Rate Innings Number Opposition         Ground  \\\n",
       "0                       81.25              2    v India  Port of Spain   \n",
       "1                       80.76              2    v India  Port of Spain   \n",
       "2                          90              2    v India  Port of Spain   \n",
       "3                       78.26              2    v India  Port of Spain   \n",
       "4                       94.44              2    v India  Port of Spain   \n",
       "\n",
       "  Innings Date      Country  50's  100's Innings Runs Scored Buckets  \\\n",
       "0   2019-11-08  West Indies   1.0    0.0                       50-99   \n",
       "1   2019-11-08  West Indies   0.0    0.0                        0-49   \n",
       "2   2019-11-08  West Indies   0.0    0.0                        0-49   \n",
       "3   2019-11-08  West Indies   0.0    0.0                        0-49   \n",
       "4   2019-11-08  West Indies   0.0    0.0                        0-49   \n",
       "\n",
       "  Innings Overs Bowled  Innings Bowled Flag Innings Maidens Bowled  \\\n",
       "0                  NaN                  NaN                    NaN   \n",
       "1                  NaN                  NaN                    NaN   \n",
       "2                  NaN                  NaN                    NaN   \n",
       "3                  NaN                  NaN                    NaN   \n",
       "4                  NaN                  NaN                    NaN   \n",
       "\n",
       "  Innings Runs Conceded Innings Wickets Taken  4 Wickets  5 Wickets  \\\n",
       "0                   NaN                   NaN        NaN        NaN   \n",
       "1                   NaN                   NaN        NaN        NaN   \n",
       "2                   NaN                   NaN        NaN        NaN   \n",
       "3                   NaN                   NaN        NaN        NaN   \n",
       "4                   NaN                   NaN        NaN        NaN   \n",
       "\n",
       "   10 Wickets Innings Wickets Taken Buckets Innings Economy Rate  year  \n",
       "0         NaN                           NaN                  NaN  2019  \n",
       "1         NaN                           NaN                  NaN  2019  \n",
       "2         NaN                           NaN                  NaN  2019  \n",
       "3         NaN                           NaN                  NaN  2019  \n",
       "4         NaN                           NaN                  NaN  2019  "
      ]
     },
     "execution_count": 48,
     "metadata": {},
     "output_type": "execute_result"
    }
   ],
   "source": [
    "df.head()"
   ]
  },
  {
   "cell_type": "code",
   "execution_count": 51,
   "metadata": {},
   "outputs": [
    {
     "data": {
      "text/plain": [
       "Innings Player                           object\n",
       "Innings Runs Scored                      object\n",
       "Innings Runs Scored Num                  object\n",
       "Innings Minutes Batted                   object\n",
       "Innings Batted Flag                     float64\n",
       "Innings Not Out Flag                    float64\n",
       "Innings Balls Faced                      object\n",
       "Innings Boundary Fours                   object\n",
       "Innings Boundary Sixes                   object\n",
       "Innings Batting Strike Rate              object\n",
       "Innings Number                           object\n",
       "Opposition                               object\n",
       "Ground                                   object\n",
       "Innings Date                     datetime64[ns]\n",
       "Country                                  object\n",
       "50's                                    float64\n",
       "100's                                   float64\n",
       "Innings Runs Scored Buckets              object\n",
       "Innings Overs Bowled                     object\n",
       "Innings Bowled Flag                     float64\n",
       "Innings Maidens Bowled                   object\n",
       "Innings Runs Conceded                    object\n",
       "Innings Wickets Taken                    object\n",
       "4 Wickets                               float64\n",
       "5 Wickets                               float64\n",
       "10 Wickets                              float64\n",
       "Innings Wickets Taken Buckets            object\n",
       "Innings Economy Rate                     object\n",
       "year                                      int64\n",
       "dtype: object"
      ]
     },
     "execution_count": 51,
     "metadata": {},
     "output_type": "execute_result"
    }
   ],
   "source": [
    "df.dtypes"
   ]
  },
  {
   "cell_type": "code",
   "execution_count": 52,
   "metadata": {},
   "outputs": [],
   "source": [
    "cols = ['Innings Runs Scored Num', 'Innings Balls Faced', 'Innings Not Out Flag']\n",
    "df[cols] = df[cols].astype(int)"
   ]
  },
  {
   "cell_type": "code",
   "execution_count": 53,
   "metadata": {},
   "outputs": [
    {
     "data": {
      "text/plain": [
       "Innings Player                           object\n",
       "Innings Runs Scored                      object\n",
       "Innings Runs Scored Num                   int32\n",
       "Innings Minutes Batted                   object\n",
       "Innings Batted Flag                     float64\n",
       "Innings Not Out Flag                      int32\n",
       "Innings Balls Faced                       int32\n",
       "Innings Boundary Fours                   object\n",
       "Innings Boundary Sixes                   object\n",
       "Innings Batting Strike Rate              object\n",
       "Innings Number                           object\n",
       "Opposition                               object\n",
       "Ground                                   object\n",
       "Innings Date                     datetime64[ns]\n",
       "Country                                  object\n",
       "50's                                    float64\n",
       "100's                                   float64\n",
       "Innings Runs Scored Buckets              object\n",
       "Innings Overs Bowled                     object\n",
       "Innings Bowled Flag                     float64\n",
       "Innings Maidens Bowled                   object\n",
       "Innings Runs Conceded                    object\n",
       "Innings Wickets Taken                    object\n",
       "4 Wickets                               float64\n",
       "5 Wickets                               float64\n",
       "10 Wickets                              float64\n",
       "Innings Wickets Taken Buckets            object\n",
       "Innings Economy Rate                     object\n",
       "year                                      int64\n",
       "dtype: object"
      ]
     },
     "execution_count": 53,
     "metadata": {},
     "output_type": "execute_result"
    }
   ],
   "source": [
    "df.dtypes"
   ]
  },
  {
   "cell_type": "markdown",
   "metadata": {},
   "source": [
    "### Ganguly's era 1992–2008\n",
    "### Dhoni's era 2004–2019"
   ]
  },
  {
   "cell_type": "code",
   "execution_count": 75,
   "metadata": {},
   "outputs": [],
   "source": [
    "df_Ganguly_era = df[(df['year'] >= 1992) & (df['year'] <= 2008)]\n",
    "df_Dhoni_era = df[(df['year'] >= 2004) & (df['year'] <= 2019)]"
   ]
  },
  {
   "cell_type": "markdown",
   "metadata": {},
   "source": [
    "### KPIs"
   ]
  },
  {
   "cell_type": "markdown",
   "metadata": {},
   "source": [
    "* RPI - runs/matches\n",
    "* SR - runs/balls\n",
    "* 100s, 50s -\n",
    "* rel SR - sr pl/sr o\n",
    "* rel RPI - rpi pl/rpi o\n",
    "* % contrib - runs/team runs"
   ]
  },
  {
   "cell_type": "code",
   "execution_count": null,
   "metadata": {},
   "outputs": [],
   "source": []
  },
  {
   "cell_type": "code",
   "execution_count": 66,
   "metadata": {},
   "outputs": [
    {
     "data": {
      "text/plain": [
       "array([-1], dtype=int64)"
      ]
     },
     "execution_count": 66,
     "metadata": {},
     "output_type": "execute_result"
    }
   ],
   "source": [
    "df['Innings Player'].str.find('gangly'.title()).unique() "
   ]
  },
  {
   "cell_type": "code",
   "execution_count": 68,
   "metadata": {},
   "outputs": [
    {
     "ename": "IndexError",
     "evalue": "index 0 is out of bounds for axis 0 with size 0",
     "output_type": "error",
     "traceback": [
      "\u001b[1;31m---------------------------------------------------------------------------\u001b[0m",
      "\u001b[1;31mIndexError\u001b[0m                                Traceback (most recent call last)",
      "\u001b[1;32m<ipython-input-68-9d05bbb75f43>\u001b[0m in \u001b[0;36m<module>\u001b[1;34m\u001b[0m\n\u001b[1;32m----> 1\u001b[1;33m \u001b[0mdf\u001b[0m\u001b[1;33m[\u001b[0m\u001b[0mdf\u001b[0m\u001b[1;33m[\u001b[0m\u001b[1;34m'Innings Player'\u001b[0m\u001b[1;33m]\u001b[0m\u001b[1;33m.\u001b[0m\u001b[0mstr\u001b[0m\u001b[1;33m.\u001b[0m\u001b[0mfind\u001b[0m\u001b[1;33m(\u001b[0m\u001b[1;34m'gangly'\u001b[0m\u001b[1;33m.\u001b[0m\u001b[0mtitle\u001b[0m\u001b[1;33m(\u001b[0m\u001b[1;33m)\u001b[0m\u001b[1;33m)\u001b[0m \u001b[1;33m!=\u001b[0m \u001b[1;33m-\u001b[0m\u001b[1;36m1\u001b[0m\u001b[1;33m]\u001b[0m\u001b[1;33m[\u001b[0m\u001b[1;34m'Innings Player'\u001b[0m\u001b[1;33m]\u001b[0m\u001b[1;33m.\u001b[0m\u001b[0munique\u001b[0m\u001b[1;33m(\u001b[0m\u001b[1;33m)\u001b[0m\u001b[1;33m[\u001b[0m\u001b[1;36m0\u001b[0m\u001b[1;33m]\u001b[0m\u001b[1;33m\u001b[0m\u001b[1;33m\u001b[0m\u001b[0m\n\u001b[0m",
      "\u001b[1;31mIndexError\u001b[0m: index 0 is out of bounds for axis 0 with size 0"
     ]
    }
   ],
   "source": [
    "df[df['Innings Player'].str.find('gangly'.title()) != -1]['Innings Player'].unique()[0]"
   ]
  },
  {
   "cell_type": "code",
   "execution_count": 70,
   "metadata": {},
   "outputs": [],
   "source": [
    "def find_name(df, col, sub):\n",
    "    \n",
    "    try:\n",
    "        x = df[df[col].str.find(sub.title()) != -1][col].unique()[0]\n",
    "    except:\n",
    "        x = 'player not found'\n",
    "        \n",
    "    return x\n",
    "    "
   ]
  },
  {
   "cell_type": "code",
   "execution_count": 74,
   "metadata": {},
   "outputs": [
    {
     "data": {
      "text/plain": [
       "'SC Ganguly'"
      ]
     },
     "execution_count": 74,
     "metadata": {},
     "output_type": "execute_result"
    }
   ],
   "source": [
    "p1 = find_name(df, 'Innings Player', 'ganguly')\n",
    "p1"
   ]
  },
  {
   "cell_type": "code",
   "execution_count": 72,
   "metadata": {},
   "outputs": [
    {
     "data": {
      "text/plain": [
       "'MS Dhoni'"
      ]
     },
     "execution_count": 72,
     "metadata": {},
     "output_type": "execute_result"
    }
   ],
   "source": [
    "p2 = find_name(df, 'Innings Player', 'dhoni')\n",
    "p2"
   ]
  },
  {
   "cell_type": "code",
   "execution_count": null,
   "metadata": {},
   "outputs": [],
   "source": [
    "#### player info"
   ]
  },
  {
   "cell_type": "code",
   "execution_count": 77,
   "metadata": {},
   "outputs": [],
   "source": [
    "df_Ganguly = df_Ganguly_era[df_Ganguly_era['Innings Player'] == p1]\n",
    "df_not_Ganguly = df_Ganguly_era[df_Ganguly_era['Innings Player'] != p1]"
   ]
  },
  {
   "cell_type": "code",
   "execution_count": 78,
   "metadata": {},
   "outputs": [],
   "source": [
    "df_Dhoni = df_Dhoni_era[df_Dhoni_era['Innings Player'] == p2]\n",
    "df_not_Dhoni = df_Dhoni_era[df_Dhoni_era['Innings Player'] != p2]"
   ]
  },
  {
   "cell_type": "markdown",
   "metadata": {},
   "source": [
    "* 1. RPI"
   ]
  },
  {
   "cell_type": "code",
   "execution_count": 81,
   "metadata": {},
   "outputs": [
    {
     "data": {
      "text/plain": [
       "37.78114478114478"
      ]
     },
     "execution_count": 81,
     "metadata": {},
     "output_type": "execute_result"
    }
   ],
   "source": [
    "rpi_Ganguly = df_Ganguly['Innings Runs Scored Num'].sum()/len(df_Ganguly)\n",
    "rpi_Ganguly"
   ]
  },
  {
   "cell_type": "code",
   "execution_count": 82,
   "metadata": {},
   "outputs": [
    {
     "data": {
      "text/plain": [
       "36.05102040816327"
      ]
     },
     "execution_count": 82,
     "metadata": {},
     "output_type": "execute_result"
    }
   ],
   "source": [
    "rpi_Dhoni = df_Dhoni['Innings Runs Scored Num'].sum()/len(df_Dhoni)\n",
    "rpi_Dhoni"
   ]
  },
  {
   "cell_type": "markdown",
   "metadata": {},
   "source": [
    "* 2. SR"
   ]
  },
  {
   "cell_type": "code",
   "execution_count": 85,
   "metadata": {},
   "outputs": [
    {
     "data": {
      "text/plain": [
       "73.65"
      ]
     },
     "execution_count": 85,
     "metadata": {},
     "output_type": "execute_result"
    }
   ],
   "source": [
    "sr_Ganguly = np.round(df_Ganguly['Innings Runs Scored Num'].sum()/df_Ganguly['Innings Balls Faced'].sum()*100,2)\n",
    "sr_Ganguly"
   ]
  },
  {
   "cell_type": "code",
   "execution_count": 86,
   "metadata": {},
   "outputs": [
    {
     "data": {
      "text/plain": [
       "87.13"
      ]
     },
     "execution_count": 86,
     "metadata": {},
     "output_type": "execute_result"
    }
   ],
   "source": [
    "sr_Dhoni = np.round(df_Dhoni['Innings Runs Scored Num'].sum()/df_Dhoni['Innings Balls Faced'].sum()*100,2)\n",
    "sr_Dhoni"
   ]
  },
  {
   "cell_type": "markdown",
   "metadata": {},
   "source": [
    "* 3. 100,s 50s"
   ]
  },
  {
   "cell_type": "code",
   "execution_count": 88,
   "metadata": {},
   "outputs": [
    {
     "data": {
      "text/plain": [
       "(22.0, 71.0)"
      ]
     },
     "execution_count": 88,
     "metadata": {},
     "output_type": "execute_result"
    }
   ],
   "source": [
    "df_Ganguly[\"100's\"].sum(), df_Ganguly[\"50's\"].sum()"
   ]
  },
  {
   "cell_type": "code",
   "execution_count": 89,
   "metadata": {},
   "outputs": [
    {
     "data": {
      "text/plain": [
       "(9.0, 73.0)"
      ]
     },
     "execution_count": 89,
     "metadata": {},
     "output_type": "execute_result"
    }
   ],
   "source": [
    "df_Dhoni[\"100's\"].sum(), df_Dhoni[\"50's\"].sum()"
   ]
  },
  {
   "cell_type": "markdown",
   "metadata": {},
   "source": [
    "* 4 rel SR"
   ]
  },
  {
   "cell_type": "code",
   "execution_count": 90,
   "metadata": {},
   "outputs": [
    {
     "data": {
      "text/plain": [
       "73.65"
      ]
     },
     "execution_count": 90,
     "metadata": {},
     "output_type": "execute_result"
    }
   ],
   "source": [
    "sr_Ganguly"
   ]
  },
  {
   "cell_type": "code",
   "execution_count": 92,
   "metadata": {},
   "outputs": [],
   "source": [
    "sr_not_Ganguly = np.round(df_not_Ganguly['Innings Runs Scored Num'].sum()/df_not_Ganguly['Innings Balls Faced'].sum()*100,2)\n",
    "sr_not_Dhoni = np.round(df_not_Dhoni['Innings Runs Scored Num'].sum()/df_not_Dhoni['Innings Balls Faced'].sum()*100,2)"
   ]
  },
  {
   "cell_type": "code",
   "execution_count": 94,
   "metadata": {},
   "outputs": [
    {
     "data": {
      "text/plain": [
       "1.01"
      ]
     },
     "execution_count": 94,
     "metadata": {},
     "output_type": "execute_result"
    }
   ],
   "source": [
    "rel_SR_Ganguly = np.round(sr_Ganguly/sr_not_Ganguly,2)\n",
    "rel_SR_Ganguly"
   ]
  },
  {
   "cell_type": "code",
   "execution_count": 93,
   "metadata": {},
   "outputs": [
    {
     "data": {
      "text/plain": [
       "1.07"
      ]
     },
     "execution_count": 93,
     "metadata": {},
     "output_type": "execute_result"
    }
   ],
   "source": [
    "rel_SR_Dhoni = np.round(sr_Dhoni/sr_not_Dhoni,2)\n",
    "rel_SR_Dhoni"
   ]
  },
  {
   "cell_type": "markdown",
   "metadata": {},
   "source": [
    "* rel RPI - homeowrk"
   ]
  },
  {
   "cell_type": "markdown",
   "metadata": {},
   "source": [
    "* % contribution"
   ]
  },
  {
   "cell_type": "code",
   "execution_count": 101,
   "metadata": {},
   "outputs": [],
   "source": [
    "runs_Ganguly = df_Ganguly['Innings Runs Scored Num'].sum()"
   ]
  },
  {
   "cell_type": "code",
   "execution_count": 104,
   "metadata": {},
   "outputs": [],
   "source": [
    "runs_team_Ganguly = df_Ganguly_era[df_Ganguly_era['Country'] == 'India']['Innings Runs Scored Num'].sum()"
   ]
  },
  {
   "cell_type": "code",
   "execution_count": 105,
   "metadata": {},
   "outputs": [
    {
     "data": {
      "text/plain": [
       "10.84"
      ]
     },
     "execution_count": 105,
     "metadata": {},
     "output_type": "execute_result"
    }
   ],
   "source": [
    "contrib = np.round(100*runs_Ganguly/runs_team_Ganguly,2)\n",
    "contrib"
   ]
  },
  {
   "cell_type": "code",
   "execution_count": 106,
   "metadata": {},
   "outputs": [],
   "source": [
    "runs_Dhoni = df_Dhoni['Innings Runs Scored Num'].sum()\n",
    "runs_team_Dhoni = df_Dhoni_era[df_Dhoni_era['Country'] == 'India']['Innings Runs Scored Num'].sum()"
   ]
  },
  {
   "cell_type": "code",
   "execution_count": 107,
   "metadata": {},
   "outputs": [
    {
     "data": {
      "text/plain": [
       "10.87"
      ]
     },
     "execution_count": 107,
     "metadata": {},
     "output_type": "execute_result"
    }
   ],
   "source": [
    "contrib = np.round(100*runs_Dhoni/runs_team_Dhoni,2)\n",
    "contrib"
   ]
  },
  {
   "cell_type": "code",
   "execution_count": null,
   "metadata": {},
   "outputs": [],
   "source": [
    "# opposition analysis"
   ]
  },
  {
   "cell_type": "code",
   "execution_count": 111,
   "metadata": {},
   "outputs": [
    {
     "data": {
      "text/html": [
       "<div>\n",
       "<style scoped>\n",
       "    .dataframe tbody tr th:only-of-type {\n",
       "        vertical-align: middle;\n",
       "    }\n",
       "\n",
       "    .dataframe tbody tr th {\n",
       "        vertical-align: top;\n",
       "    }\n",
       "\n",
       "    .dataframe thead th {\n",
       "        text-align: right;\n",
       "    }\n",
       "</style>\n",
       "<table border=\"1\" class=\"dataframe\">\n",
       "  <thead>\n",
       "    <tr style=\"text-align: right;\">\n",
       "      <th></th>\n",
       "      <th>opposition</th>\n",
       "      <th>SC Ganguly</th>\n",
       "    </tr>\n",
       "  </thead>\n",
       "  <tbody>\n",
       "    <tr>\n",
       "      <th>0</th>\n",
       "      <td>v Pakistan</td>\n",
       "      <td>50</td>\n",
       "    </tr>\n",
       "    <tr>\n",
       "      <th>1</th>\n",
       "      <td>v Sri Lanka</td>\n",
       "      <td>40</td>\n",
       "    </tr>\n",
       "    <tr>\n",
       "      <th>2</th>\n",
       "      <td>v Zimbabwe</td>\n",
       "      <td>36</td>\n",
       "    </tr>\n",
       "    <tr>\n",
       "      <th>3</th>\n",
       "      <td>v Australia</td>\n",
       "      <td>33</td>\n",
       "    </tr>\n",
       "    <tr>\n",
       "      <th>4</th>\n",
       "      <td>v New Zealand</td>\n",
       "      <td>31</td>\n",
       "    </tr>\n",
       "    <tr>\n",
       "      <th>5</th>\n",
       "      <td>v South Africa</td>\n",
       "      <td>29</td>\n",
       "    </tr>\n",
       "    <tr>\n",
       "      <th>6</th>\n",
       "      <td>v West Indies</td>\n",
       "      <td>27</td>\n",
       "    </tr>\n",
       "    <tr>\n",
       "      <th>7</th>\n",
       "      <td>v England</td>\n",
       "      <td>26</td>\n",
       "    </tr>\n",
       "    <tr>\n",
       "      <th>8</th>\n",
       "      <td>v Kenya</td>\n",
       "      <td>10</td>\n",
       "    </tr>\n",
       "    <tr>\n",
       "      <th>9</th>\n",
       "      <td>v Bangladesh</td>\n",
       "      <td>10</td>\n",
       "    </tr>\n",
       "    <tr>\n",
       "      <th>10</th>\n",
       "      <td>v Ireland</td>\n",
       "      <td>1</td>\n",
       "    </tr>\n",
       "    <tr>\n",
       "      <th>11</th>\n",
       "      <td>v Namibia</td>\n",
       "      <td>1</td>\n",
       "    </tr>\n",
       "    <tr>\n",
       "      <th>12</th>\n",
       "      <td>v Netherlands</td>\n",
       "      <td>1</td>\n",
       "    </tr>\n",
       "    <tr>\n",
       "      <th>13</th>\n",
       "      <td>v U.A.E.</td>\n",
       "      <td>1</td>\n",
       "    </tr>\n",
       "    <tr>\n",
       "      <th>14</th>\n",
       "      <td>v Bermuda</td>\n",
       "      <td>1</td>\n",
       "    </tr>\n",
       "  </tbody>\n",
       "</table>\n",
       "</div>"
      ],
      "text/plain": [
       "        opposition  SC Ganguly\n",
       "0       v Pakistan          50\n",
       "1      v Sri Lanka          40\n",
       "2       v Zimbabwe          36\n",
       "3      v Australia          33\n",
       "4    v New Zealand          31\n",
       "5   v South Africa          29\n",
       "6    v West Indies          27\n",
       "7        v England          26\n",
       "8          v Kenya          10\n",
       "9     v Bangladesh          10\n",
       "10       v Ireland           1\n",
       "11       v Namibia           1\n",
       "12   v Netherlands           1\n",
       "13        v U.A.E.           1\n",
       "14       v Bermuda           1"
      ]
     },
     "execution_count": 111,
     "metadata": {},
     "output_type": "execute_result"
    }
   ],
   "source": [
    "x1 = df_Ganguly['Opposition'].value_counts().reset_index()\n",
    "x1.columns = ['opposition', p1]\n",
    "x1"
   ]
  },
  {
   "cell_type": "code",
   "execution_count": 112,
   "metadata": {},
   "outputs": [
    {
     "data": {
      "text/html": [
       "<div>\n",
       "<style scoped>\n",
       "    .dataframe tbody tr th:only-of-type {\n",
       "        vertical-align: middle;\n",
       "    }\n",
       "\n",
       "    .dataframe tbody tr th {\n",
       "        vertical-align: top;\n",
       "    }\n",
       "\n",
       "    .dataframe thead th {\n",
       "        text-align: right;\n",
       "    }\n",
       "</style>\n",
       "<table border=\"1\" class=\"dataframe\">\n",
       "  <thead>\n",
       "    <tr style=\"text-align: right;\">\n",
       "      <th></th>\n",
       "      <th>opposition</th>\n",
       "      <th>MS Dhoni</th>\n",
       "    </tr>\n",
       "  </thead>\n",
       "  <tbody>\n",
       "    <tr>\n",
       "      <th>0</th>\n",
       "      <td>v Sri Lanka</td>\n",
       "      <td>53</td>\n",
       "    </tr>\n",
       "    <tr>\n",
       "      <th>1</th>\n",
       "      <td>v Australia</td>\n",
       "      <td>48</td>\n",
       "    </tr>\n",
       "    <tr>\n",
       "      <th>2</th>\n",
       "      <td>v England</td>\n",
       "      <td>44</td>\n",
       "    </tr>\n",
       "    <tr>\n",
       "      <th>3</th>\n",
       "      <td>v West Indies</td>\n",
       "      <td>33</td>\n",
       "    </tr>\n",
       "    <tr>\n",
       "      <th>4</th>\n",
       "      <td>v South Africa</td>\n",
       "      <td>32</td>\n",
       "    </tr>\n",
       "    <tr>\n",
       "      <th>5</th>\n",
       "      <td>v Pakistan</td>\n",
       "      <td>31</td>\n",
       "    </tr>\n",
       "    <tr>\n",
       "      <th>6</th>\n",
       "      <td>v New Zealand</td>\n",
       "      <td>26</td>\n",
       "    </tr>\n",
       "    <tr>\n",
       "      <th>7</th>\n",
       "      <td>v Bangladesh</td>\n",
       "      <td>17</td>\n",
       "    </tr>\n",
       "    <tr>\n",
       "      <th>8</th>\n",
       "      <td>v Zimbabwe</td>\n",
       "      <td>3</td>\n",
       "    </tr>\n",
       "    <tr>\n",
       "      <th>9</th>\n",
       "      <td>v Afghanistan</td>\n",
       "      <td>2</td>\n",
       "    </tr>\n",
       "    <tr>\n",
       "      <th>10</th>\n",
       "      <td>v Hong Kong</td>\n",
       "      <td>2</td>\n",
       "    </tr>\n",
       "    <tr>\n",
       "      <th>11</th>\n",
       "      <td>v Ireland</td>\n",
       "      <td>1</td>\n",
       "    </tr>\n",
       "    <tr>\n",
       "      <th>12</th>\n",
       "      <td>v Netherlands</td>\n",
       "      <td>1</td>\n",
       "    </tr>\n",
       "    <tr>\n",
       "      <th>13</th>\n",
       "      <td>v Bermuda</td>\n",
       "      <td>1</td>\n",
       "    </tr>\n",
       "  </tbody>\n",
       "</table>\n",
       "</div>"
      ],
      "text/plain": [
       "        opposition  MS Dhoni\n",
       "0      v Sri Lanka        53\n",
       "1      v Australia        48\n",
       "2        v England        44\n",
       "3    v West Indies        33\n",
       "4   v South Africa        32\n",
       "5       v Pakistan        31\n",
       "6    v New Zealand        26\n",
       "7     v Bangladesh        17\n",
       "8       v Zimbabwe         3\n",
       "9    v Afghanistan         2\n",
       "10     v Hong Kong         2\n",
       "11       v Ireland         1\n",
       "12   v Netherlands         1\n",
       "13       v Bermuda         1"
      ]
     },
     "execution_count": 112,
     "metadata": {},
     "output_type": "execute_result"
    }
   ],
   "source": [
    "x2 = df_Dhoni['Opposition'].value_counts().reset_index()\n",
    "x2.columns = ['opposition', p2]\n",
    "x2"
   ]
  },
  {
   "cell_type": "code",
   "execution_count": 113,
   "metadata": {},
   "outputs": [
    {
     "data": {
      "text/html": [
       "<div>\n",
       "<style scoped>\n",
       "    .dataframe tbody tr th:only-of-type {\n",
       "        vertical-align: middle;\n",
       "    }\n",
       "\n",
       "    .dataframe tbody tr th {\n",
       "        vertical-align: top;\n",
       "    }\n",
       "\n",
       "    .dataframe thead th {\n",
       "        text-align: right;\n",
       "    }\n",
       "</style>\n",
       "<table border=\"1\" class=\"dataframe\">\n",
       "  <thead>\n",
       "    <tr style=\"text-align: right;\">\n",
       "      <th></th>\n",
       "      <th>opposition</th>\n",
       "      <th>SC Ganguly</th>\n",
       "      <th>MS Dhoni</th>\n",
       "    </tr>\n",
       "  </thead>\n",
       "  <tbody>\n",
       "    <tr>\n",
       "      <th>0</th>\n",
       "      <td>v Pakistan</td>\n",
       "      <td>50</td>\n",
       "      <td>31</td>\n",
       "    </tr>\n",
       "    <tr>\n",
       "      <th>1</th>\n",
       "      <td>v Sri Lanka</td>\n",
       "      <td>40</td>\n",
       "      <td>53</td>\n",
       "    </tr>\n",
       "    <tr>\n",
       "      <th>2</th>\n",
       "      <td>v Zimbabwe</td>\n",
       "      <td>36</td>\n",
       "      <td>3</td>\n",
       "    </tr>\n",
       "    <tr>\n",
       "      <th>3</th>\n",
       "      <td>v Australia</td>\n",
       "      <td>33</td>\n",
       "      <td>48</td>\n",
       "    </tr>\n",
       "    <tr>\n",
       "      <th>4</th>\n",
       "      <td>v New Zealand</td>\n",
       "      <td>31</td>\n",
       "      <td>26</td>\n",
       "    </tr>\n",
       "    <tr>\n",
       "      <th>5</th>\n",
       "      <td>v South Africa</td>\n",
       "      <td>29</td>\n",
       "      <td>32</td>\n",
       "    </tr>\n",
       "    <tr>\n",
       "      <th>6</th>\n",
       "      <td>v West Indies</td>\n",
       "      <td>27</td>\n",
       "      <td>33</td>\n",
       "    </tr>\n",
       "    <tr>\n",
       "      <th>7</th>\n",
       "      <td>v England</td>\n",
       "      <td>26</td>\n",
       "      <td>44</td>\n",
       "    </tr>\n",
       "    <tr>\n",
       "      <th>8</th>\n",
       "      <td>v Bangladesh</td>\n",
       "      <td>10</td>\n",
       "      <td>17</td>\n",
       "    </tr>\n",
       "    <tr>\n",
       "      <th>9</th>\n",
       "      <td>v Ireland</td>\n",
       "      <td>1</td>\n",
       "      <td>1</td>\n",
       "    </tr>\n",
       "    <tr>\n",
       "      <th>10</th>\n",
       "      <td>v Netherlands</td>\n",
       "      <td>1</td>\n",
       "      <td>1</td>\n",
       "    </tr>\n",
       "    <tr>\n",
       "      <th>11</th>\n",
       "      <td>v Bermuda</td>\n",
       "      <td>1</td>\n",
       "      <td>1</td>\n",
       "    </tr>\n",
       "  </tbody>\n",
       "</table>\n",
       "</div>"
      ],
      "text/plain": [
       "        opposition  SC Ganguly  MS Dhoni\n",
       "0       v Pakistan          50        31\n",
       "1      v Sri Lanka          40        53\n",
       "2       v Zimbabwe          36         3\n",
       "3      v Australia          33        48\n",
       "4    v New Zealand          31        26\n",
       "5   v South Africa          29        32\n",
       "6    v West Indies          27        33\n",
       "7        v England          26        44\n",
       "8     v Bangladesh          10        17\n",
       "9        v Ireland           1         1\n",
       "10   v Netherlands           1         1\n",
       "11       v Bermuda           1         1"
      ]
     },
     "execution_count": 113,
     "metadata": {},
     "output_type": "execute_result"
    }
   ],
   "source": [
    "pd.merge(x1, x2, on = ['opposition'])"
   ]
  },
  {
   "cell_type": "code",
   "execution_count": 114,
   "metadata": {},
   "outputs": [
    {
     "data": {
      "text/html": [
       "<div>\n",
       "<style scoped>\n",
       "    .dataframe tbody tr th:only-of-type {\n",
       "        vertical-align: middle;\n",
       "    }\n",
       "\n",
       "    .dataframe tbody tr th {\n",
       "        vertical-align: top;\n",
       "    }\n",
       "\n",
       "    .dataframe thead th {\n",
       "        text-align: right;\n",
       "    }\n",
       "</style>\n",
       "<table border=\"1\" class=\"dataframe\">\n",
       "  <thead>\n",
       "    <tr style=\"text-align: right;\">\n",
       "      <th></th>\n",
       "      <th>SC Ganguly</th>\n",
       "      <th>MS Dhoni</th>\n",
       "    </tr>\n",
       "    <tr>\n",
       "      <th>opposition</th>\n",
       "      <th></th>\n",
       "      <th></th>\n",
       "    </tr>\n",
       "  </thead>\n",
       "  <tbody>\n",
       "    <tr>\n",
       "      <th>v Pakistan</th>\n",
       "      <td>50</td>\n",
       "      <td>31</td>\n",
       "    </tr>\n",
       "    <tr>\n",
       "      <th>v Sri Lanka</th>\n",
       "      <td>40</td>\n",
       "      <td>53</td>\n",
       "    </tr>\n",
       "    <tr>\n",
       "      <th>v Zimbabwe</th>\n",
       "      <td>36</td>\n",
       "      <td>3</td>\n",
       "    </tr>\n",
       "    <tr>\n",
       "      <th>v Australia</th>\n",
       "      <td>33</td>\n",
       "      <td>48</td>\n",
       "    </tr>\n",
       "    <tr>\n",
       "      <th>v New Zealand</th>\n",
       "      <td>31</td>\n",
       "      <td>26</td>\n",
       "    </tr>\n",
       "    <tr>\n",
       "      <th>v South Africa</th>\n",
       "      <td>29</td>\n",
       "      <td>32</td>\n",
       "    </tr>\n",
       "    <tr>\n",
       "      <th>v West Indies</th>\n",
       "      <td>27</td>\n",
       "      <td>33</td>\n",
       "    </tr>\n",
       "    <tr>\n",
       "      <th>v England</th>\n",
       "      <td>26</td>\n",
       "      <td>44</td>\n",
       "    </tr>\n",
       "    <tr>\n",
       "      <th>v Bangladesh</th>\n",
       "      <td>10</td>\n",
       "      <td>17</td>\n",
       "    </tr>\n",
       "    <tr>\n",
       "      <th>v Ireland</th>\n",
       "      <td>1</td>\n",
       "      <td>1</td>\n",
       "    </tr>\n",
       "    <tr>\n",
       "      <th>v Netherlands</th>\n",
       "      <td>1</td>\n",
       "      <td>1</td>\n",
       "    </tr>\n",
       "    <tr>\n",
       "      <th>v Bermuda</th>\n",
       "      <td>1</td>\n",
       "      <td>1</td>\n",
       "    </tr>\n",
       "  </tbody>\n",
       "</table>\n",
       "</div>"
      ],
      "text/plain": [
       "                SC Ganguly  MS Dhoni\n",
       "opposition                          \n",
       "v Pakistan              50        31\n",
       "v Sri Lanka             40        53\n",
       "v Zimbabwe              36         3\n",
       "v Australia             33        48\n",
       "v New Zealand           31        26\n",
       "v South Africa          29        32\n",
       "v West Indies           27        33\n",
       "v England               26        44\n",
       "v Bangladesh            10        17\n",
       "v Ireland                1         1\n",
       "v Netherlands            1         1\n",
       "v Bermuda                1         1"
      ]
     },
     "execution_count": 114,
     "metadata": {},
     "output_type": "execute_result"
    }
   ],
   "source": [
    "pd.merge(x1, x2, on = ['opposition']).set_index('opposition')"
   ]
  },
  {
   "cell_type": "code",
   "execution_count": 117,
   "metadata": {},
   "outputs": [],
   "source": [
    "import matplotlib.pyplot as plt"
   ]
  },
  {
   "cell_type": "code",
   "execution_count": 118,
   "metadata": {},
   "outputs": [
    {
     "data": {
      "image/png": "[encoded data removed]",
      "text/plain": [
       "<Figure size 432x288 with 1 Axes>"
      ]
     },
     "metadata": {
      "needs_background": "light"
     },
     "output_type": "display_data"
    }
   ],
   "source": [
    "pd.merge(x1, x2, on = ['opposition']).set_index('opposition').plot(kind = 'bar')\n",
    "plt.show()"
   ]
  },
  {
   "cell_type": "code",
   "execution_count": 129,
   "metadata": {},
   "outputs": [],
   "source": [
    "def extract_info(data, col, p): \n",
    "    \n",
    "    x = data[col].value_counts().reset_index()\n",
    "    x.columns = ['bucket', p]\n",
    "    \n",
    "    return x"
   ]
  },
  {
   "cell_type": "code",
   "execution_count": 130,
   "metadata": {},
   "outputs": [
    {
     "data": {
      "text/html": [
       "<div>\n",
       "<style scoped>\n",
       "    .dataframe tbody tr th:only-of-type {\n",
       "        vertical-align: middle;\n",
       "    }\n",
       "\n",
       "    .dataframe tbody tr th {\n",
       "        vertical-align: top;\n",
       "    }\n",
       "\n",
       "    .dataframe thead th {\n",
       "        text-align: right;\n",
       "    }\n",
       "</style>\n",
       "<table border=\"1\" class=\"dataframe\">\n",
       "  <thead>\n",
       "    <tr style=\"text-align: right;\">\n",
       "      <th></th>\n",
       "      <th>bucket</th>\n",
       "      <th>SC Ganguly</th>\n",
       "    </tr>\n",
       "  </thead>\n",
       "  <tbody>\n",
       "    <tr>\n",
       "      <th>0</th>\n",
       "      <td>0-49</td>\n",
       "      <td>204</td>\n",
       "    </tr>\n",
       "    <tr>\n",
       "      <th>1</th>\n",
       "      <td>50-99</td>\n",
       "      <td>71</td>\n",
       "    </tr>\n",
       "    <tr>\n",
       "      <th>2</th>\n",
       "      <td>100-149</td>\n",
       "      <td>20</td>\n",
       "    </tr>\n",
       "    <tr>\n",
       "      <th>3</th>\n",
       "      <td>150-199</td>\n",
       "      <td>2</td>\n",
       "    </tr>\n",
       "  </tbody>\n",
       "</table>\n",
       "</div>"
      ],
      "text/plain": [
       "    bucket  SC Ganguly\n",
       "0     0-49         204\n",
       "1    50-99          71\n",
       "2  100-149          20\n",
       "3  150-199           2"
      ]
     },
     "execution_count": 130,
     "metadata": {},
     "output_type": "execute_result"
    }
   ],
   "source": [
    "x1 = extract_info(df_Ganguly, 'Innings Runs Scored Buckets', p1)\n",
    "x1"
   ]
  },
  {
   "cell_type": "code",
   "execution_count": 131,
   "metadata": {},
   "outputs": [
    {
     "data": {
      "text/html": [
       "<div>\n",
       "<style scoped>\n",
       "    .dataframe tbody tr th:only-of-type {\n",
       "        vertical-align: middle;\n",
       "    }\n",
       "\n",
       "    .dataframe tbody tr th {\n",
       "        vertical-align: top;\n",
       "    }\n",
       "\n",
       "    .dataframe thead th {\n",
       "        text-align: right;\n",
       "    }\n",
       "</style>\n",
       "<table border=\"1\" class=\"dataframe\">\n",
       "  <thead>\n",
       "    <tr style=\"text-align: right;\">\n",
       "      <th></th>\n",
       "      <th>bucket</th>\n",
       "      <th>MS Dhoni</th>\n",
       "    </tr>\n",
       "  </thead>\n",
       "  <tbody>\n",
       "    <tr>\n",
       "      <th>0</th>\n",
       "      <td>0-49</td>\n",
       "      <td>212</td>\n",
       "    </tr>\n",
       "    <tr>\n",
       "      <th>1</th>\n",
       "      <td>50-99</td>\n",
       "      <td>73</td>\n",
       "    </tr>\n",
       "    <tr>\n",
       "      <th>2</th>\n",
       "      <td>100-149</td>\n",
       "      <td>8</td>\n",
       "    </tr>\n",
       "    <tr>\n",
       "      <th>3</th>\n",
       "      <td>150-199</td>\n",
       "      <td>1</td>\n",
       "    </tr>\n",
       "  </tbody>\n",
       "</table>\n",
       "</div>"
      ],
      "text/plain": [
       "    bucket  MS Dhoni\n",
       "0     0-49       212\n",
       "1    50-99        73\n",
       "2  100-149         8\n",
       "3  150-199         1"
      ]
     },
     "execution_count": 131,
     "metadata": {},
     "output_type": "execute_result"
    }
   ],
   "source": [
    "x2 = extract_info(df_Dhoni, 'Innings Runs Scored Buckets', p2)\n",
    "x2"
   ]
  },
  {
   "cell_type": "code",
   "execution_count": 135,
   "metadata": {},
   "outputs": [
    {
     "data": {
      "image/png": "[encoded data removed]",
      "text/plain": [
       "<Figure size 432x288 with 1 Axes>"
      ]
     },
     "metadata": {
      "needs_background": "light"
     },
     "output_type": "display_data"
    }
   ],
   "source": [
    "pd.merge(x1, x2, on = 'bucket').set_index('bucket').plot(kind = 'bar')\n",
    "plt.show()"
   ]
  },
  {
   "cell_type": "code",
   "execution_count": null,
   "metadata": {},
   "outputs": [],
   "source": []
  }
 ],
 "metadata": {
  "kernelspec": {
   "display_name": "Python 3",
   "language": "python",
   "name": "python3"
  },
  "language_info": {
   "codemirror_mode": {
    "name": "ipython",
    "version": 3
   },
   "file_extension": ".py",
   "mimetype": "text/x-python",
   "name": "python",
   "nbconvert_exporter": "python",
   "pygments_lexer": "ipython3",
   "version": "3.8.3"
  }
 },
 "nbformat": 4,
 "nbformat_minor": 4
}
